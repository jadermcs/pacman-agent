{
 "cells": [
  {
   "cell_type": "code",
   "execution_count": null,
   "id": "0b7bd0d8",
   "metadata": {},
   "outputs": [],
   "source": [
    "#!git clone https://github.com/jadermcs/pacman-agent"
   ]
  },
  {
   "cell_type": "code",
   "execution_count": 9,
   "id": "72bca5b0",
   "metadata": {},
   "outputs": [
    {
     "name": "stdout",
     "output_type": "stream",
     "text": [
      "layout:  smallClassic\n",
      "Pacman died! Score: -521\n",
      "Average Score: -521.0\n",
      "Scores:        -521.0\n",
      "Win Rate:      0/1 (0.00)\n",
      "Record:        Loss\n"
     ]
    }
   ],
   "source": [
    "!python pacman.py --layout smallClassic "
   ]
  },
  {
   "cell_type": "code",
   "execution_count": null,
   "id": "2169e19e",
   "metadata": {},
   "outputs": [],
   "source": []
  }
 ],
 "metadata": {
  "kernelspec": {
   "display_name": "Python 3",
   "language": "python",
   "name": "python3"
  },
  "language_info": {
   "codemirror_mode": {
    "name": "ipython",
    "version": 3
   },
   "file_extension": ".py",
   "mimetype": "text/x-python",
   "name": "python",
   "nbconvert_exporter": "python",
   "pygments_lexer": "ipython3",
   "version": "3.8.10"
  }
 },
 "nbformat": 4,
 "nbformat_minor": 5
}
